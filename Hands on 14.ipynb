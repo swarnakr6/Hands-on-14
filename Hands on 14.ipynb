{
 "cells": [
  {
   "cell_type": "code",
   "execution_count": null,
   "id": "e1906373",
   "metadata": {},
   "outputs": [],
   "source": [
    "Implementation of Topological sort"
   ]
  },
  {
   "cell_type": "code",
   "execution_count": 15,
   "id": "a887d3aa",
   "metadata": {},
   "outputs": [
    {
     "name": "stdout",
     "output_type": "stream",
     "text": [
      "Topological Sort: [5, 4, 2, 3, 1, 0]\n"
     ]
    }
   ],
   "source": [
    "class Graph:\n",
    "    def __init__(self, vertices):\n",
    "        self.vertices = vertices\n",
    "        self.adj_list = {v: [] for v in range(vertices)}\n",
    "\n",
    "    def add_edge(self, u, v):\n",
    "        self.adj_list[u].append(v)\n",
    "\n",
    "    def topological_sort_util(self, v, visited, stack):\n",
    "        visited[v] = True\n",
    "\n",
    "        for i in self.adj_list[v]:\n",
    "            if not visited[i]:\n",
    "                self.topological_sort_util(i, visited, stack)\n",
    "\n",
    "        stack.insert(0, v)\n",
    "\n",
    "    def topological_sort(self):\n",
    "        visited = [False] * self.vertices\n",
    "        stack = []\n",
    "\n",
    "        for i in range(self.vertices):\n",
    "            if not visited[i]:\n",
    "                self.topological_sort_util(i, visited, stack)\n",
    "\n",
    "        return stack\n",
    "\n",
    "# Example usage:\n",
    "graph = Graph(6)\n",
    "graph.add_edge(5, 2)\n",
    "graph.add_edge(5, 0)\n",
    "graph.add_edge(4, 0)\n",
    "graph.add_edge(4, 1)\n",
    "graph.add_edge(2, 3)\n",
    "graph.add_edge(3, 1)\n",
    "\n",
    "sorted_vertices = graph.topological_sort()\n",
    "print(\"Topological Sort:\", sorted_vertices)\n"
   ]
  },
  {
   "cell_type": "code",
   "execution_count": null,
   "id": "92fa4c0e",
   "metadata": {},
   "outputs": [],
   "source": [
    "Implementation of Depth-First Search"
   ]
  },
  {
   "cell_type": "code",
   "execution_count": 16,
   "id": "a40060f7",
   "metadata": {},
   "outputs": [
    {
     "name": "stdout",
     "output_type": "stream",
     "text": [
      "Depth-First Search:\n",
      "0 1 3 4 5 2 "
     ]
    }
   ],
   "source": [
    "class Graph:\n",
    "    def __init__(self, vertices):\n",
    "        self.vertices = vertices\n",
    "        self.adj_list = {v: [] for v in range(vertices)}\n",
    "\n",
    "    def add_edge(self, u, v):\n",
    "        self.adj_list[u].append(v)\n",
    "\n",
    "    def dfs_util(self, v, visited):\n",
    "        visited[v] = True\n",
    "        print(v, end=' ')\n",
    "\n",
    "        for i in self.adj_list[v]:\n",
    "            if not visited[i]:\n",
    "                self.dfs_util(i, visited)\n",
    "\n",
    "    def dfs(self, start):\n",
    "        visited = [False] * self.vertices\n",
    "        self.dfs_util(start, visited)\n",
    "\n",
    "# Example usage:\n",
    "graph = Graph(6)\n",
    "graph.add_edge(0, 1)\n",
    "graph.add_edge(0, 2)\n",
    "graph.add_edge(1, 3)\n",
    "graph.add_edge(1, 4)\n",
    "graph.add_edge(2, 4)\n",
    "graph.add_edge(3, 4)\n",
    "graph.add_edge(3, 5)\n",
    "graph.add_edge(4, 5)\n",
    "\n",
    "print(\"Depth-First Search:\")\n",
    "graph.dfs(0)\n"
   ]
  },
  {
   "cell_type": "code",
   "execution_count": null,
   "id": "20e95a06",
   "metadata": {},
   "outputs": [],
   "source": [
    "Implementation of Kruskal algorithm"
   ]
  },
  {
   "cell_type": "code",
   "execution_count": 17,
   "id": "b2fc8398",
   "metadata": {},
   "outputs": [
    {
     "name": "stdout",
     "output_type": "stream",
     "text": [
      "Edges in the Minimum Spanning Tree:\n",
      "2 -- 3 == 4\n",
      "0 -- 3 == 5\n",
      "0 -- 1 == 10\n"
     ]
    }
   ],
   "source": [
    "class Graph:\n",
    "    def __init__(self, vertices):\n",
    "        self.V = vertices\n",
    "        self.graph = []\n",
    "\n",
    "    def add_edge(self, u, v, w):\n",
    "        self.graph.append([u, v, w])\n",
    "\n",
    "    def find(self, parent, i):\n",
    "        if parent[i] == i:\n",
    "            return i\n",
    "        return self.find(parent, parent[i])\n",
    "\n",
    "    def union(self, parent, rank, x, y):\n",
    "        x_root = self.find(parent, x)\n",
    "        y_root = self.find(parent, y)\n",
    "\n",
    "        if rank[x_root] < rank[y_root]:\n",
    "            parent[x_root] = y_root\n",
    "        elif rank[x_root] > rank[y_root]:\n",
    "            parent[y_root] = x_root\n",
    "        else:\n",
    "            parent[y_root] = x_root\n",
    "            rank[x_root] += 1\n",
    "\n",
    "    def kruskal(self):\n",
    "        result = []\n",
    "        i = 0\n",
    "        e = 0\n",
    "\n",
    "        self.graph = sorted(self.graph, key=lambda item: item[2])\n",
    "        parent = [i for i in range(self.V)]\n",
    "        rank = [0] * self.V\n",
    "\n",
    "        while e < self.V - 1:\n",
    "            u, v, w = self.graph[i]\n",
    "            i += 1\n",
    "            x = self.find(parent, u)\n",
    "            y = self.find(parent, v)\n",
    "\n",
    "            if x != y:\n",
    "                e += 1\n",
    "                result.append([u, v, w])\n",
    "                self.union(parent, rank, x, y)\n",
    "\n",
    "        return result\n",
    "\n",
    "# Example usage:\n",
    "graph = Graph(4)\n",
    "graph.add_edge(0, 1, 10)\n",
    "graph.add_edge(0, 2, 6)\n",
    "graph.add_edge(0, 3, 5)\n",
    "graph.add_edge(1, 3, 15)\n",
    "graph.add_edge(2, 3, 4)\n",
    "\n",
    "mst = graph.kruskal()\n",
    "print(\"Edges in the Minimum Spanning Tree:\")\n",
    "for u, v, w in mst:\n",
    "    print(f\"{u} -- {v} == {w}\")\n"
   ]
  },
  {
   "cell_type": "code",
   "execution_count": null,
   "id": "f04fb3bb",
   "metadata": {},
   "outputs": [],
   "source": []
  }
 ],
 "metadata": {
  "kernelspec": {
   "display_name": "Python 3 (ipykernel)",
   "language": "python",
   "name": "python3"
  },
  "language_info": {
   "codemirror_mode": {
    "name": "ipython",
    "version": 3
   },
   "file_extension": ".py",
   "mimetype": "text/x-python",
   "name": "python",
   "nbconvert_exporter": "python",
   "pygments_lexer": "ipython3",
   "version": "3.10.9"
  }
 },
 "nbformat": 4,
 "nbformat_minor": 5
}
